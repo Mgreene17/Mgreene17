{
  "nbformat": 4,
  "nbformat_minor": 0,
  "metadata": {
    "colab": {
      "name": "Copy of Assignment 02 - CIS490 (10pts)-real one",
      "provenance": [],
      "collapsed_sections": [],
      "include_colab_link": true
    },
    "kernelspec": {
      "name": "python3",
      "display_name": "Python 3"
    },
    "language_info": {
      "name": "python"
    }
  },
  "cells": [
    {
      "cell_type": "markdown",
      "metadata": {
        "id": "view-in-github",
        "colab_type": "text"
      },
      "source": [
        "<a href=\"https://colab.research.google.com/github/Mgreene17/Mgreene17/blob/main/Copy_of_Assignment_02_CIS490_(10pts)_real_one.ipynb\" target=\"_parent\"><img src=\"https://colab.research.google.com/assets/colab-badge.svg\" alt=\"Open In Colab\"/></a>"
      ]
    },
    {
      "cell_type": "markdown",
      "source": [
        "##(3 pts) Short questions\n",
        "\n",
        "Fill in short definitions/answers for each of the following:\n",
        "\n",
        "**observation space** - The environment the agent moves around in \n",
        "\n",
        "**action space** -  all possible actions agent can take\n",
        "\n",
        "* left\n",
        "\n",
        "* right\n",
        "\n",
        "* neutral\n",
        "\n",
        "**agent** - A program that generates an action based on its internal state and observation.\n",
        "\n",
        "For MountainCar,  \n",
        "* Is the observation space continuous or discrete? \n",
        "\n",
        " discrete\n",
        "* How many dimensions is it? \n",
        "\n",
        " 2\n",
        "\n",
        "* Is the action space continuous or discrete?\n",
        " \n",
        " discrete"
      ],
      "metadata": {
        "id": "ncGUy0G9lrPv"
      }
    },
    {
      "cell_type": "markdown",
      "source": [
        "## (3pts) Open loop agent. \n",
        "In the following cell, implement your open loop agent. You must not use the observation return variable. I will run it ten times to determine the average number of iterations to reach the top. (The lowest average in the class gets a bonus point.)"
      ],
      "metadata": {
        "id": "1AL91QWXdHSd"
      }
    },
    {
      "cell_type": "code",
      "source": [
        "# Run this cell once to allow playable videos to be created\n",
        "# Make sure it says SUCCESS after running, or rerun.\n",
        "\n",
        "!pip install gym pyvirtualdisplay > /dev/null 2>&1\n",
        "!apt-get install -y xvfb python-opengl ffmpeg > /dev/null 2>&1\n",
        "# install some helper functions to allow playing render videos in colab\n",
        "import gym\n",
        "from gym.wrappers import Monitor\n",
        "import glob\n",
        "import io\n",
        "import base64\n",
        "from IPython.display import HTML\n",
        "from pyvirtualdisplay import Display\n",
        "from IPython import display as ipythondisplay\n",
        "\n",
        "display = Display(visible=0, size=(1400, 900))\n",
        "display.start()\n",
        "\n",
        "\"\"\"\n",
        "Utility functions to enable video recording of gym environment \n",
        "and displaying it.\n",
        "To enable video, just do \"env = wrap_env(env)\"\"\n",
        "\"\"\"\n",
        "\n",
        "def show_video():\n",
        "  mp4list = glob.glob('video/*.mp4')\n",
        "  if len(mp4list) > 0:\n",
        "    mp4 = mp4list[0]\n",
        "    video = io.open(mp4, 'r+b').read()\n",
        "    encoded = base64.b64encode(video)\n",
        "    ipythondisplay.display(HTML(data='''<video alt=\"test\" autoplay \n",
        "                loop controls style=\"height: 400px;\">\n",
        "                <source src=\"data:video/mp4;base64,{0}\" type=\"video/mp4\" />\n",
        "             </video>'''.format(encoded.decode('ascii'))))\n",
        "  else: \n",
        "    print(\"Could not find video\")\n",
        "    \n",
        "\n",
        "def wrap_env(env):\n",
        "  env = Monitor(env, './video', force=True)\n",
        "  return env\n",
        "\n",
        "print('SUCCESS!')"
      ],
      "metadata": {
        "id": "CuHe7CrSo5Hg",
        "outputId": "15763e92-314a-410c-fb82-996b8b23df91",
        "colab": {
          "base_uri": "https://localhost:8080/"
        }
      },
      "execution_count": 1,
      "outputs": [
        {
          "output_type": "stream",
          "name": "stdout",
          "text": [
            "SUCCESS!\n"
          ]
        }
      ]
    },
    {
      "cell_type": "code",
      "source": [
        "# YOUR OPEN-LOOP AGENT GOES HERE (YOU SHOULD NOT USE observation FOR THE\n",
        "# OPEN LOOP AGENT)\n",
        "env = wrap_env(gym.make(\"MountainCar-v0\"))\n",
        "observation = env.reset()\n",
        "# observation is a two dimensional tuple that contains the position and \n",
        "# speed. The initial position and speed is not (0,0) but rather there is\n",
        "# a small random starting position and speed.\n",
        "\n",
        "step_i = 0  # use this variable as a counter for each step taken\n",
        "\n",
        "while True:    \n",
        "    env.render()\n",
        "    \n",
        "    #--------------------------------------------\n",
        "    # your agent goes here (change the code here)\n",
        "    # currently the action is randomly sampled from the action space\n",
        "    if step_i < 45: \n",
        "      action = 0\n",
        "    if step_i > 45:\n",
        "        action = 2\n",
        "  \n",
        "    #-------------------------------------------\n",
        "\n",
        "    # The following line calls the environment simulator with the\n",
        "    # specified action. It runs the physics simulator for one time\n",
        "    # step, and returns the observation, reward, done, and info. \n",
        "    # For our purposes, we are only interested in observation and done.\n",
        "    # done is a bool, that is true if the car reaches the flag and is\n",
        "    # false otherwise. \n",
        "    observation, reward, done, info = env.step(action) \n",
        "    step_i = step_i + 1\n",
        " \n",
        "    # if car reaches the flag, exit the loop\n",
        "    if done: \n",
        "      break;\n",
        "\n",
        "print('------------------------\\nDONE')\n",
        "print('# steps taken: ', step_i)\n",
        "env.close()\n",
        "show_video()\n"
      ],
      "metadata": {
        "id": "wqBIzit6r08l",
        "outputId": "2ed4b5f2-5bbf-4715-fd5c-3b3b59b43bd7",
        "colab": {
          "base_uri": "https://localhost:8080/",
          "height": 473
        }
      },
      "execution_count": 87,
      "outputs": [
        {
          "output_type": "stream",
          "name": "stdout",
          "text": [
            "------------------------\n",
            "DONE\n",
            "# steps taken:  91\n"
          ]
        },
        {
          "output_type": "display_data",
          "data": {
            "text/html": [
              "<video alt=\"test\" autoplay \n",
              "                loop controls style=\"height: 400px;\">\n",
              "                <source src=\"data:video/mp4;base64,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\" type=\"video/mp4\" />\n",
              "             </video>"
            ],
            "text/plain": [
              "<IPython.core.display.HTML object>"
            ]
          },
          "metadata": {}
        }
      ]
    },
    {
      "cell_type": "markdown",
      "source": [
        "## (4pts) Closed-loop agent. \n",
        "In the following cell, implement your closed-loop agent. You must make use of the observation variable in a meaningful way. I will run it ten times to determine the average number of iterations to reach the top. (The lowest average in the class gets a bonus point.)"
      ],
      "metadata": {
        "id": "NkVxRQTLd0tR"
      }
    },
    {
      "cell_type": "code",
      "source": [
        "# CLOSED LOOP AGENT (use observation)\n",
        "# Insert code for your closed loop agent here (i.e. you should use \n",
        "# observation for deciding your next action).\n",
        "# To start out, copy and paste the entire code contents of the above cell here.\n"
      ],
      "metadata": {
        "id": "Hy6xe6Yhudr2"
      },
      "execution_count": 5,
      "outputs": []
    },
    {
      "cell_type": "code",
      "source": [
        "# YOUR OPEN-LOOP AGENT GOES HERE (YOU SHOULD NOT USE observation FOR THE\n",
        "# OPEN LOOP AGENT)\n",
        "env = wrap_env(gym.make(\"MountainCar-v0\"))\n",
        "observation = env.reset()\n",
        "# observation is a two dimensional tuple that contains the position and \n",
        "# speed. The initial position and speed is not (0,0) but rather there is\n",
        "# a small random starting position and speed.\n",
        "\n",
        "step_i = 0  # use this variable as a counter for each step taken\n",
        "\n",
        "while True:    \n",
        "    env.render()\n",
        "    \n",
        "    #--------------------------------------------\n",
        "    # your agent goes here (change the code here)\n",
        "    # currently the action is randomly sampled from the action space\n",
        "    if step_i < 39: \n",
        "      action = 0\n",
        "    if step_i > 39:\n",
        "        action = 2\n",
        "    print(observation[1])\n",
        "\n",
        "    print(observation[0])\n",
        "\n",
        "   # By using the print function to view the speed and position as the car moves, I determined that I was able to achieve the lowest and most consistent numbers at 39 pushes to the left and 161 pushes to the right.\n",
        "   # After experimenting with the neutral funtion, I found it more effiecent to replace the neutral momentum coming down the ramp with a push to the right + it also removes the random factor \n",
        "   \n",
        "    \n",
        "    #-------------------------------------------\n",
        "\n",
        "    # The following line calls the environment simulator with the\n",
        "    # specified action. It runs the physics simulator for one time\n",
        "    # step, and returns the observation, reward, done, and info. \n",
        "    # For our purposes, we are only interested in observation and done.\n",
        "    # done is a bool, that is true if the car reaches the flag and is\n",
        "    # false otherwise. \n",
        "    observation, reward, done, info = env.step(action) \n",
        "    step_i = step_i + 1\n",
        " \n",
        "    # if car reaches the flag, exit the loop\n",
        "    if done: \n",
        "      break;\n",
        "\n",
        "print('------------------------\\nDONE')\n",
        "print('# steps taken: ', step_i)\n",
        "env.close()\n",
        "show_video()\n"
      ],
      "metadata": {
        "outputId": "f5d67322-5903-43f8-a3ec-f66ffbd8e856",
        "colab": {
          "base_uri": "https://localhost:8080/",
          "height": 1000
        },
        "id": "H6_cHL8yx-3m"
      },
      "execution_count": 88,
      "outputs": [
        {
          "output_type": "stream",
          "name": "stdout",
          "text": [
            "0.0\n",
            "-0.423507305302112\n",
            "-0.001739455875665929\n",
            "-0.42524676117777793\n",
            "-0.003466439555615319\n",
            "-0.42871320073339325\n",
            "-0.005168509571849061\n",
            "-0.4338817103052423\n",
            "-0.006833292791831324\n",
            "-0.4407150030970736\n",
            "-0.008448535240381435\n",
            "-0.44916353833745504\n",
            "-0.01000217139169636\n",
            "-0.4591657097291514\n",
            "-0.011482415609912217\n",
            "-0.4706481253390636\n",
            "-0.012877877400802885\n",
            "-0.48352600273986646\n",
            "-0.01417769978330588\n",
            "-0.4977037025231723\n",
            "-0.015371717544566184\n",
            "-0.5130754200677385\n",
            "-0.016450629601319537\n",
            "-0.529526049669058\n",
            "-0.01740617738845651\n",
            "-0.5469322270575145\n",
            "-0.018231319386338245\n",
            "-0.5651635464438528\n",
            "-0.01892039082339619\n",
            "-0.5840839372672489\n",
            "-0.019469237440814177\n",
            "-0.6035531747080631\n",
            "-0.01987531308437885\n",
            "-0.623428487792442\n",
            "-0.02013773278023845\n",
            "-0.6435662205726804\n",
            "-0.02025727571233859\n",
            "-0.663823496285019\n",
            "-0.020236335886659546\n",
            "-0.6840598321716785\n",
            "-0.020078821891806823\n",
            "-0.7041386540634854\n",
            "-0.01979001066170752\n",
            "-0.7239286647251929\n",
            "-0.01937636315050559\n",
            "-0.7433050278756985\n",
            "-0.01884531205366341\n",
            "-0.7621503399293619\n",
            "-0.018205032977639084\n",
            "-0.780355372907001\n",
            "-0.01746421072815834\n",
            "-0.7978195836351593\n",
            "-0.016631811732135373\n",
            "-0.8144513953672946\n",
            "-0.015716872206016832\n",
            "-0.8301682675733114\n",
            "-0.014728309768340594\n",
            "-0.844896577341652\n",
            "-0.013674764019639683\n",
            "-0.8585713413612917\n",
            "-0.012564469413781873\n",
            "-0.8711358107750735\n",
            "-0.011405161712843361\n",
            "-0.8825409724879169\n",
            "-0.010204017586142469\n",
            "-0.8927449900740593\n",
            "-0.008967625555913544\n",
            "-0.9017126156299728\n",
            "-0.007701985525507984\n",
            "-0.9094146011554808\n",
            "-0.006412533526114735\n",
            "-0.9158271346815955\n",
            "-0.0051041880305048425\n",
            "-0.9209313227121003\n",
            "-0.0037814141367032168\n",
            "-0.9247127368488035\n",
            "-0.002448302045161834\n",
            "-0.9271610388939654\n",
            "-0.0011086564675789196\n",
            "-0.9282696953615444\n",
            "0.00023390614964146402\n",
            "-0.9280357892119029\n",
            "0.003575855480897196\n",
            "-0.9244599337310057\n",
            "0.006908285772238176\n",
            "-0.9175516479587675\n",
            "0.010221566793188405\n",
            "-0.9073300811655791\n",
            "0.01350469426713618\n",
            "-0.8938253868984429\n",
            "0.0167446962037504\n",
            "-0.8770806906946925\n",
            "0.019926129474004434\n",
            "-0.8571545612206881\n",
            "0.023030707903640348\n",
            "-0.8341238533170477\n",
            "0.02603710958826966\n",
            "-0.8080867437287781\n",
            "0.02892101461807272\n",
            "-0.7791657291107054\n",
            "0.03165542203563953\n",
            "-0.7475103070750658\n",
            "0.034211283697724824\n",
            "-0.713299023377341\n",
            "0.03655847056168611\n",
            "-0.6767405528156548\n",
            "0.0386670533133859\n",
            "-0.6380734995022689\n",
            "0.0405088365249642\n",
            "-0.5975646629773047\n",
            "0.042059039406646674\n",
            "-0.555505623570658\n",
            "0.04329797550378575\n",
            "-0.5122076480668722\n",
            "0.044212558674813426\n",
            "-0.4679950893920588\n",
            "0.04479746236953907\n",
            "-0.42319762702251973\n",
            "0.04505578814953502\n",
            "-0.3781418388729847\n",
            "0.044999155270237165\n",
            "-0.3331426836027475\n",
            "0.04464719652994187\n",
            "-0.28849548707280565\n",
            "0.04402652204088351\n",
            "-0.24446896503192214\n",
            "0.04316927672273354\n",
            "-0.2012996883091886\n",
            "0.042111457299824975\n",
            "-0.15918823100936363\n",
            "0.0408911651361865\n",
            "-0.11829706587317713\n",
            "0.03954695438136517\n",
            "-0.07875011149181196\n",
            "0.03811639825733276\n",
            "-0.0406337132344792\n",
            "0.0366349501268549\n",
            "-0.003998763107624301\n",
            "0.03513513001339448\n",
            "0.03113636690577018\n",
            "0.03364602866059619\n",
            "0.06478239556636636\n",
            "0.03219309377592693\n",
            "0.0969754893422933\n",
            "0.030798147429162214\n",
            "0.1277736367714555\n",
            "0.0294795781207395\n",
            "0.15725321489219501\n",
            "0.028252653147333714\n",
            "0.18550586803952873\n",
            "0.02712990372097866\n",
            "0.21263577176050738\n",
            "0.026121544364913395\n",
            "0.23875731612542078\n",
            "0.025235897567130728\n",
            "0.2639932136925515\n",
            "0.02447980333494064\n",
            "0.2884730170274922\n",
            "0.023859000532565674\n",
            "0.31233201756005785\n",
            "0.02337847247671295\n",
            "0.3357104900367708\n",
            "0.023042753245953007\n",
            "0.3587532432827238\n",
            "0.022856193695718244\n",
            "0.381609436978442\n",
            "0.022823187474807428\n",
            "0.40443262445324946\n",
            "0.022948357614773287\n",
            "0.4273809820680227\n",
            "0.023236703673716254\n",
            "0.450617685741739\n",
            "0.023693708071478775\n",
            "0.47431139381321774\n",
            "0.024325398212117127\n",
            "0.49863679202533484\n",
            "------------------------\n",
            "DONE\n",
            "# steps taken:  88\n"
          ]
        },
        {
          "output_type": "display_data",
          "data": {
            "text/html": [
              "<video alt=\"test\" autoplay \n",
              "                loop controls style=\"height: 400px;\">\n",
              "                <source src=\"data:video/mp4;base64,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\" type=\"video/mp4\" />\n",
              "             </video>"
            ],
            "text/plain": [
              "<IPython.core.display.HTML object>"
            ]
          },
          "metadata": {}
        }
      ]
    },
    {
      "cell_type": "code",
      "source": [
        "\n",
        "\n"
      ],
      "metadata": {
        "id": "aKEdTKCDzKaU"
      },
      "execution_count": 74,
      "outputs": []
    }
  ]
}